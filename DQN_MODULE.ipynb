{
  "nbformat": 4,
  "nbformat_minor": 0,
  "metadata": {
    "colab": {
      "provenance": []
    },
    "kernelspec": {
      "name": "python3",
      "display_name": "Python 3"
    },
    "language_info": {
      "name": "python"
    }
  },
  "cells": [
    {
      "cell_type": "markdown",
      "source": [
        "**DQN FUNCTION**"
      ],
      "metadata": {
        "id": "eRviBph9LlAC"
      }
    },
    {
      "cell_type": "code",
      "source": [
        "import random\n",
        "import numpy as np\n",
        "import torch\n",
        "import torch.nn as nn\n",
        "import torch.optim as optim\n",
        "from collections import deque\n",
        "\n",
        "def flatten(lst):\n",
        "    flat_list = []\n",
        "    for item in lst:\n",
        "        if isinstance(item, list):\n",
        "            flat_list.extend(flatten(item))\n",
        "        else:\n",
        "            flat_list.append(item)\n",
        "    return flat_list\n",
        "\n",
        "def unflatten(flat_list, structure):\n",
        "    flat_iter = iter(flat_list)\n",
        "    def helper(struct):\n",
        "        result = []\n",
        "        for elem in struct:\n",
        "            if isinstance(elem, list):\n",
        "                result.append(helper(elem))\n",
        "            else:\n",
        "                result.append(next(flat_iter))\n",
        "        return result\n",
        "    return helper(structure)\n",
        "\n",
        "def build_model(s_size, a_size):\n",
        "    model = nn.Sequential(\n",
        "        nn.Linear(s_size, 128),\n",
        "        nn.ReLU(),\n",
        "        nn.Linear(128, 128),\n",
        "        nn.ReLU(),\n",
        "        nn.Linear(128, a_size)\n",
        "    )\n",
        "    return model\n",
        "\n",
        "def dqn_function(parameter_values, bounds, m_iterations, batch_size, memory_size, gamma, epsilon, epsilon_min, epsilon_decay, learning_rate):\n",
        "\n",
        "    print(\"DQN Algorithm Started\")\n",
        "\n",
        "    para = flatten(parameter_values)\n",
        "    len_para = len(para)\n",
        "\n",
        "    max_iterations = m_iterations\n",
        "    memory = deque(maxlen = memory_size)\n",
        "    reward_array = []\n",
        "    state_size = len_para\n",
        "    action_size = 2 * len_para\n",
        "\n",
        "    model = build_model(state_size, action_size)\n",
        "    optimizer = optim.Adam(model.parameters(), lr=learning_rate)\n",
        "    criterion = nn.MSELoss()\n",
        "    initial_values = [bounds[i][0] for i in range(len_para)]\n",
        "    state = initial_values\n",
        "\n",
        "    def remember(state, action, reward, next_state, done):\n",
        "        memory.append((state, action, reward, next_state, done))\n",
        "\n",
        "    def act(state):\n",
        "        if np.random.rand() <= epsilon:\n",
        "            return random.randrange(action_size)\n",
        "        state = torch.FloatTensor(state).unsqueeze(0)\n",
        "        act_values = model(state)\n",
        "        return torch.argmax(act_values).item()\n",
        "\n",
        "    def replay(batch_size):\n",
        "        nonlocal epsilon\n",
        "        if len(memory) < batch_size:\n",
        "            return\n",
        "        minibatch = random.sample(memory, batch_size)\n",
        "        for state, action, reward, next_state, done in minibatch:\n",
        "            target = reward\n",
        "            if not done:\n",
        "                next_state = torch.FloatTensor(next_state).unsqueeze(0)\n",
        "                target = (reward + gamma * torch.max(model(next_state)).item())\n",
        "            state = torch.FloatTensor(state).unsqueeze(0)\n",
        "            target_f = model(state).detach().clone()\n",
        "            target_f[0][action] = torch.tensor(target)\n",
        "            model.zero_grad()\n",
        "            loss = criterion(model(state), target_f)\n",
        "            loss.backward()\n",
        "            optimizer.step()\n",
        "        if epsilon > epsilon_min:\n",
        "            epsilon = epsilon * epsilon_decay\n",
        "\n",
        "    for iter in range(max_iterations):\n",
        "\n",
        "        action = act(state)\n",
        "\n",
        "        if(action < len_para):\n",
        "            para[action] = max(bounds[action][0], min(bounds[action][1], para[action] + np.random.uniform(-0.1, 0)))\n",
        "        elif(action >= len_para):\n",
        "            temp_action = action - len_para\n",
        "            para[temp_action] = max(bounds[temp_action][0], min(bounds[temp_action][1], para[temp_action] + np.random.uniform(0, 0.1)))\n",
        "\n",
        "        temp = unflatten(para, parameter_values)\n",
        "        reward = objective_function(temp)\n",
        "\n",
        "        next_state = para.copy()\n",
        "        done = iter == max_iterations - 1\n",
        "\n",
        "        remember(state, action, reward, next_state, done)\n",
        "        state = next_state.copy()\n",
        "\n",
        "        if len(memory) > batch_size:\n",
        "            replay(batch_size)\n",
        "\n",
        "        reward_array.append(reward)\n",
        "\n",
        "        if iter % 100 == 0 or iter == (max_iterations-1):\n",
        "            print(f\"Iteration {iter}: Best value = {max(reward_array)}\")\n",
        "    return reward_array"
      ],
      "metadata": {
        "id": "ce9iPQovCW3Q"
      },
      "execution_count": 27,
      "outputs": []
    },
    {
      "cell_type": "markdown",
      "source": [
        "**MAIN PROGRAM EXAMPLE**"
      ],
      "metadata": {
        "id": "liDlz07NYKwB"
      }
    },
    {
      "cell_type": "code",
      "source": [
        "import matplotlib.pyplot as plt"
      ],
      "metadata": {
        "id": "Baqna__2avA0"
      },
      "execution_count": 14,
      "outputs": []
    },
    {
      "cell_type": "markdown",
      "source": [
        "**RATE CALCULATION METHOD**"
      ],
      "metadata": {
        "id": "XJ2EjsYAYa8J"
      }
    },
    {
      "cell_type": "code",
      "source": [
        "def objective_function(para):\n",
        "    a, b, c = para\n",
        "    return a*b-c"
      ],
      "metadata": {
        "id": "O435kRMgLnCS"
      },
      "execution_count": 15,
      "outputs": []
    },
    {
      "cell_type": "markdown",
      "source": [
        "**INITIAL VALUES OF PARAMETERS TO BE OPTIMIZED LIST**"
      ],
      "metadata": {
        "id": "5PQvVt89Yio5"
      }
    },
    {
      "cell_type": "code",
      "source": [
        "# Initial Values of Parameters\n",
        "p_values = [1,2,1]"
      ],
      "metadata": {
        "id": "Xbxz8TdrUFBU"
      },
      "execution_count": 16,
      "outputs": []
    },
    {
      "cell_type": "markdown",
      "source": [
        "**BOUNDS**"
      ],
      "metadata": {
        "id": "5FVyCM29YlkX"
      }
    },
    {
      "cell_type": "markdown",
      "source": [
        "For bounds, you have to create a list for the range of all variables of each optimizable parameter lists.\n",
        "\n",
        "Suppose you have a 2D optimizable parameter list say **X = 3x2** size.\n",
        "\n",
        "Then you have to mention **[lower limit, upper limit]*6**, (6 = the list length)\n",
        "\n",
        "**3 More Cases:**\n",
        "\n",
        "* In case there are no lower or upper range, you must use **[ -(float('inf')) , (float('inf')) ]**\n",
        "\n",
        "* In case there is only no lower limit, you must use **-(float('inf'))** as lower limit\n",
        "\n",
        "* In case there is only no upper limit, you must use **(float('inf'))** as upper limit"
      ],
      "metadata": {
        "id": "mXRDDdvYYs75"
      }
    },
    {
      "cell_type": "code",
      "source": [
        "bounds = [(1,10),(2,50),(1,200)]"
      ],
      "metadata": {
        "id": "_TKeKeB5Yng1"
      },
      "execution_count": 17,
      "outputs": []
    },
    {
      "cell_type": "markdown",
      "source": [
        "**DQN FUNCTION PARAMETERS (YOU CAN CHANGE)**"
      ],
      "metadata": {
        "id": "by_y-wiKaYEn"
      }
    },
    {
      "cell_type": "code",
      "source": [
        "m_iterations = 200\n",
        "number_of_simulations = 100 # Average of result of number of simulations (Any Integer Number)\n",
        "\n",
        "batch_size=32\n",
        "memory_size = 5000\n",
        "gamma = 0.95  # discount rate\n",
        "epsilon = 1.0  # exploration rate\n",
        "epsilon_min = 0.01\n",
        "epsilon_decay = 0.995\n",
        "learning_rate = 0.001"
      ],
      "metadata": {
        "id": "h5CuAptEaai1"
      },
      "execution_count": 22,
      "outputs": []
    },
    {
      "cell_type": "markdown",
      "source": [
        "**RESULT**"
      ],
      "metadata": {
        "id": "zg6e-nH7ahsW"
      }
    },
    {
      "cell_type": "code",
      "source": [
        "average = []\n",
        "for i in range(number_of_simulations):\n",
        "    result = dqn_function(p_values, bounds, m_iterations, batch_size, memory_size, gamma, epsilon, epsilon_min, epsilon_decay, learning_rate)\n",
        "    average.append(result)"
      ],
      "metadata": {
        "colab": {
          "base_uri": "https://localhost:8080/"
        },
        "id": "SOy-anRITeow",
        "outputId": "10061055-0ed4-4e69-ba9e-2953231f78ce"
      },
      "execution_count": 23,
      "outputs": [
        {
          "output_type": "stream",
          "name": "stdout",
          "text": [
            "DQN Algorithm Started\n",
            "Iteration 0: Best value = 1.0626387927252896\n",
            "Iteration 100: Best value = 2.1263772730485706\n",
            "Iteration 199: Best value = 4.6027643958728826\n",
            "DQN Algorithm Started\n",
            "Iteration 0: Best value = 1\n",
            "Iteration 100: Best value = 2.265886669680408\n",
            "Iteration 199: Best value = 4.378877229005697\n",
            "DQN Algorithm Started\n",
            "Iteration 0: Best value = 1\n",
            "Iteration 100: Best value = 1.8562045277402892\n",
            "Iteration 199: Best value = 2.484237715388848\n",
            "DQN Algorithm Started\n",
            "Iteration 0: Best value = 1.1958098170292937\n",
            "Iteration 100: Best value = 3.072899451219441\n",
            "Iteration 199: Best value = 6.827443947466581\n",
            "DQN Algorithm Started\n",
            "Iteration 0: Best value = 1\n",
            "Iteration 100: Best value = 1.588402873596266\n",
            "Iteration 199: Best value = 4.5856570892141715\n",
            "DQN Algorithm Started\n",
            "Iteration 0: Best value = 1\n",
            "Iteration 100: Best value = 1.6725491074820298\n",
            "Iteration 199: Best value = 4.386813711188582\n",
            "DQN Algorithm Started\n",
            "Iteration 0: Best value = 1.0935719097255951\n",
            "Iteration 100: Best value = 1.4174749417417813\n",
            "Iteration 199: Best value = 2.993793487991876\n",
            "DQN Algorithm Started\n",
            "Iteration 0: Best value = 1.0684499081799719\n",
            "Iteration 100: Best value = 1.2840831091437959\n",
            "Iteration 199: Best value = 4.1792009139965\n",
            "DQN Algorithm Started\n",
            "Iteration 0: Best value = 1\n",
            "Iteration 100: Best value = 1.5197656572651579\n",
            "Iteration 199: Best value = 4.315484177614387\n",
            "DQN Algorithm Started\n",
            "Iteration 0: Best value = 1.0034510118876856\n",
            "Iteration 100: Best value = 3.048353155459626\n",
            "Iteration 199: Best value = 6.298262177089381\n"
          ]
        }
      ]
    },
    {
      "cell_type": "markdown",
      "source": [
        "**AVERAGE OF SIMULATIONS RESULT**"
      ],
      "metadata": {
        "id": "-7ZQNhrQbFLZ"
      }
    },
    {
      "cell_type": "code",
      "source": [
        "column_sums = [0] * len(average[0])\n",
        "\n",
        "for row in average:\n",
        "    for i in range(len(row)):\n",
        "        column_sums[i] += row[i]\n",
        "\n",
        "num_rows = len(average)\n",
        "column_averages = [sum_value / num_rows for sum_value in column_sums]"
      ],
      "metadata": {
        "id": "04I5K-gNU7Tv"
      },
      "execution_count": 24,
      "outputs": []
    },
    {
      "cell_type": "markdown",
      "source": [
        "**RESULT PLOTTING**"
      ],
      "metadata": {
        "id": "G7hDB9N1azbC"
      }
    },
    {
      "cell_type": "code",
      "source": [
        "plt.plot(np.arange(len(column_averages)), column_averages, label='Function Value')\n",
        "plt.title('DQN Optimization')\n",
        "plt.xlabel('Iteration')\n",
        "plt.ylabel('Sum Rate')\n",
        "plt.legend()\n",
        "plt.tight_layout()\n",
        "plt.show()"
      ],
      "metadata": {
        "colab": {
          "base_uri": "https://localhost:8080/",
          "height": 487
        },
        "id": "kn4kMma6gP16",
        "outputId": "55b4b0e2-b1a0-4ea1-8df1-e05d1563d7bb"
      },
      "execution_count": 26,
      "outputs": [
        {
          "output_type": "display_data",
          "data": {
            "text/plain": [
              "<Figure size 640x480 with 1 Axes>"
            ],
            "image/png": "[encoded data removed]"
          },
          "metadata": {}
        }
      ]
    }
  ]
}